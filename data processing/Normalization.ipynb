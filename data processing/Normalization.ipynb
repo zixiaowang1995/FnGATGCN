{
 "cells": [
  {
   "cell_type": "code",
   "execution_count": null,
   "metadata": {},
   "outputs": [],
   "source": [
    "import csv\n",
    "from rdkit import Chem\n",
    "from molvs.normalize import Normalizer, Normalization\n",
    "from rdkit.Chem.SaltRemover import SaltRemover\n",
    "from molvs.charge import Reionizer, Uncharger\n",
    "\n",
    "def preprocess(smi):\n",
    "    mol = Chem.MolFromSmiles(smi)\n",
    "    if mol is None:\n",
    "        return None  # If SMILES cannot be converted to a molecular object, return None\n",
    "    normalizer = Normalizer()\n",
    "    new1 = normalizer.normalize(mol)\n",
    "    remover = SaltRemover()\n",
    "    new2 = remover(new1)\n",
    "    neutralize1 = Reionizer()\n",
    "    new3 = neutralize1(new2)\n",
    "    neutralize2 = Uncharger()\n",
    "    new4 = neutralize2(new3)\n",
    "    new_smiles = Chem.MolToSmiles(new4, kekuleSmiles=False)\n",
    "    return new_smiles\n",
    "\n",
    "def process_csv(input_file, output_file):\n",
    "    with open(input_file, 'r', newline='') as infile, open(output_file, 'w', newline='') as outfile:\n",
    "        reader = csv.reader(infile)\n",
    "        writer = csv.writer(outfile)\n",
    "        header = next(reader)  # Read the header row\n",
    "        writer.writerow(header)  # Write the header row to the new file\n",
    "        for row in reader:\n",
    "            smiles = row[0]  # Get the SMILES data\n",
    "            new_smiles = preprocess(smiles)  # Apply the preprocessing function\n",
    "            if new_smiles is not None:\n",
    "                row[0] = new_smiles  # Update the SMILES data\n",
    "                writer.writerow(row)  # Write the updated row to the new file\n",
    "            else:\n",
    "                print(f\"Skipping invalid SMILES: {smiles}\")  # Print and skip the SMILES that cannot be preprocessed\n",
    "\n",
    "input_file = 'input2.csv'  # Input CSV file name\n",
    "output_file = 'output2.csv'  # Output CSV file name\n",
    "process_csv(input_file, output_file)"
   ]
  }
 ],
 "metadata": {
  "kernelspec": {
   "display_name": "Python 3",
   "language": "python",
   "name": "python3"
  },
  "language_info": {
   "codemirror_mode": {
    "name": "ipython",
    "version": 3
   },
   "file_extension": ".py",
   "mimetype": "text/x-python",
   "name": "python",
   "nbconvert_exporter": "python",
   "pygments_lexer": "ipython3",
   "version": "3.7.3"
  }
 },
 "nbformat": 4,
 "nbformat_minor": 2
}
