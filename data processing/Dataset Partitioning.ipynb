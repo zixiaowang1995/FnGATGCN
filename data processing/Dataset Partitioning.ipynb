{
 "cells": [
  {
   "cell_type": "code",
   "execution_count": null,
   "metadata": {},
   "outputs": [],
   "source": [
    "import pandas as pd\n",
    "import numpy as np\n",
    "\n",
    "# Read the original CSV file\n",
    "file_path = \"input3.csv\"\n",
    "df = pd.read_csv(file_path)\n",
    "\n",
    "# Split the dataset\n",
    "n = len(df)\n",
    "indices = np.arange(n)\n",
    "np.random.shuffle(indices)\n",
    "\n",
    "train_size = int(0.8 * n)\n",
    "valid_size = int(0.1 * n)\n",
    "\n",
    "train_indices = indices[:train_size]\n",
    "valid_indices = indices[train_size:train_size + valid_size]\n",
    "test_indices = indices[train_size + valid_size:]\n",
    "\n",
    "train_df = df.iloc[train_indices]\n",
    "valid_df = df.iloc[valid_indices]\n",
    "test_df = df.iloc[test_indices]\n",
    "\n",
    "# Save the data to new CSV files\n",
    "train_df.to_csv(\"train.csv\", index=False)\n",
    "valid_df.to_csv(\"valid.csv\", index=False)\n",
    "test_df.to_csv(\"test.csv\", index=False)"
   ]
  }
 ],
 "metadata": {
  "kernelspec": {
   "display_name": "Python 3",
   "language": "python",
   "name": "python3"
  },
  "language_info": {
   "codemirror_mode": {
    "name": "ipython",
    "version": 3
   },
   "file_extension": ".py",
   "mimetype": "text/x-python",
   "name": "python",
   "nbconvert_exporter": "python",
   "pygments_lexer": "ipython3",
   "version": "3.7.3"
  }
 },
 "nbformat": 4,
 "nbformat_minor": 2
}
